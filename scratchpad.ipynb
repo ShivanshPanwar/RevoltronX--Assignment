{
  "cells": [
    {
      "cell_type": "markdown",
      "metadata": {
        "id": "view-in-github",
        "colab_type": "text"
      },
      "source": [
        "<a href=\"https://colab.research.google.com/github/ShivanshPanwar/RevoltronX--Assignment/blob/main/scratchpad.ipynb\" target=\"_parent\"><img src=\"https://colab.research.google.com/assets/colab-badge.svg\" alt=\"Open In Colab\"/></a>"
      ]
    },
    {
      "cell_type": "code",
      "execution_count": 2,
      "metadata": {
        "colab": {
          "base_uri": "https://localhost:8080/"
        },
        "id": "lIYdn1woOS1n",
        "outputId": "5fcfaa91-023d-44ae-e86c-4354ff163a91"
      },
      "outputs": [
        {
          "output_type": "stream",
          "name": "stdout",
          "text": [
            "Requirement already satisfied: pandas in /usr/local/lib/python3.11/dist-packages (2.2.2)\n",
            "Requirement already satisfied: numpy in /usr/local/lib/python3.11/dist-packages (2.2.4)\n",
            "Requirement already satisfied: scikit-learn in /usr/local/lib/python3.11/dist-packages (1.6.1)\n",
            "Requirement already satisfied: flask in /usr/local/lib/python3.11/dist-packages (3.1.0)\n",
            "Requirement already satisfied: nltk in /usr/local/lib/python3.11/dist-packages (3.9.1)\n",
            "Requirement already satisfied: python-dateutil>=2.8.2 in /usr/local/lib/python3.11/dist-packages (from pandas) (2.8.2)\n",
            "Requirement already satisfied: pytz>=2020.1 in /usr/local/lib/python3.11/dist-packages (from pandas) (2025.1)\n",
            "Requirement already satisfied: tzdata>=2022.7 in /usr/local/lib/python3.11/dist-packages (from pandas) (2025.1)\n",
            "Requirement already satisfied: scipy>=1.6.0 in /usr/local/lib/python3.11/dist-packages (from scikit-learn) (1.15.2)\n",
            "Requirement already satisfied: joblib>=1.2.0 in /usr/local/lib/python3.11/dist-packages (from scikit-learn) (1.4.2)\n",
            "Requirement already satisfied: threadpoolctl>=3.1.0 in /usr/local/lib/python3.11/dist-packages (from scikit-learn) (3.6.0)\n",
            "Requirement already satisfied: Werkzeug>=3.1 in /usr/local/lib/python3.11/dist-packages (from flask) (3.1.3)\n",
            "Requirement already satisfied: Jinja2>=3.1.2 in /usr/local/lib/python3.11/dist-packages (from flask) (3.1.6)\n",
            "Requirement already satisfied: itsdangerous>=2.2 in /usr/local/lib/python3.11/dist-packages (from flask) (2.2.0)\n",
            "Requirement already satisfied: click>=8.1.3 in /usr/local/lib/python3.11/dist-packages (from flask) (8.1.8)\n",
            "Requirement already satisfied: blinker>=1.9 in /usr/local/lib/python3.11/dist-packages (from flask) (1.9.0)\n",
            "Requirement already satisfied: regex>=2021.8.3 in /usr/local/lib/python3.11/dist-packages (from nltk) (2024.11.6)\n",
            "Requirement already satisfied: tqdm in /usr/local/lib/python3.11/dist-packages (from nltk) (4.67.1)\n",
            "Requirement already satisfied: MarkupSafe>=2.0 in /usr/local/lib/python3.11/dist-packages (from Jinja2>=3.1.2->flask) (3.0.2)\n",
            "Requirement already satisfied: six>=1.5 in /usr/local/lib/python3.11/dist-packages (from python-dateutil>=2.8.2->pandas) (1.17.0)\n"
          ]
        }
      ],
      "source": [
        "!pip install pandas numpy scikit-learn flask nltk\n"
      ]
    },
    {
      "cell_type": "code",
      "source": [
        "import pandas as pd\n",
        "import numpy as np\n",
        "import string\n",
        "from sklearn.feature_extraction.text import TfidfVectorizer\n",
        "from sklearn.metrics.pairwise import cosine_similarity"
      ],
      "metadata": {
        "id": "uayPumc83U2G"
      },
      "execution_count": 3,
      "outputs": []
    },
    {
      "cell_type": "code",
      "source": [
        "# Loading the dataset from colab\n",
        "recipes = pd.read_csv(\"/content/RAW_recipes.csv\")\n",
        "interactions = pd.read_csv(\"/content/RAW_interactions.csv\")\n",
        "recipes = recipes[['id', 'name', 'ingredients']]\n",
        "interactions = interactions[['user_id', 'recipe_id', 'rating']]\n",
        "\n",
        "# Handleing the missing values\n",
        "recipes.dropna(inplace=True)\n",
        "interactions.dropna(inplace=True)\n",
        "\n",
        "recipes['ingredients'] = recipes['ingredients'].apply(lambda x: x.replace(\"[\", \"\").replace(\"]\", \"\").replace(\"'\", \"\"))\n",
        "\n",
        "# Displaying the data\n",
        "print(\"Recipes Data Sample:\\n\", recipes.head())\n",
        "print(\"\\nUser Interactions Sample:\\n\", interactions.head())"
      ],
      "metadata": {
        "colab": {
          "base_uri": "https://localhost:8080/"
        },
        "id": "xdfGS5cF4Vi8",
        "outputId": "96dd572e-dffa-4206-b515-fe2c4abe6ec0"
      },
      "execution_count": 6,
      "outputs": [
        {
          "output_type": "stream",
          "name": "stdout",
          "text": [
            "Recipes Data Sample:\n",
            "        id                                        name  \\\n",
            "0  137739  arriba   baked winter squash mexican style   \n",
            "1   31490            a bit different  breakfast pizza   \n",
            "2  112140                   all in the kitchen  chili   \n",
            "3   59389                          alouette  potatoes   \n",
            "4   44061          amish  tomato ketchup  for canning   \n",
            "\n",
            "                                         ingredients  \n",
            "0  winter squash, mexican seasoning, mixed spice,...  \n",
            "1  prepared pizza crust, sausage patty, eggs, mil...  \n",
            "2  ground beef, yellow onions, diced tomatoes, to...  \n",
            "3  spreadable cheese with garlic and herbs, new p...  \n",
            "4  tomato juice, apple cider vinegar, sugar, salt...  \n",
            "\n",
            "User Interactions Sample:\n",
            "    user_id  recipe_id  rating\n",
            "0    38094      40893       4\n",
            "1  1293707      40893       5\n",
            "2     8937      44394       4\n",
            "3   126440      85009       5\n",
            "4    57222      85009       5\n"
          ]
        }
      ]
    },
    {
      "cell_type": "code",
      "source": [
        "def recommend_recipes(recipe_name, top_n=5):\n",
        "    indices = recipes_sample[recipes_sample['name'].str.contains(recipe_name, case=False, na=False)].index\n",
        "\n",
        "    if len(indices) == 0:\n",
        "        return \"Recipe not found.\"\n",
        "    idx = indices[0]\n",
        "    tfidf_matrix_index = recipes_sample.index.get_loc(idx)\n",
        "\n",
        "    distances, indices = nn_model.kneighbors(tfidf_matrix[tfidf_matrix_index], n_neighbors=top_n+1)\n",
        "\n",
        "    return recipes_sample.iloc[indices[0][1:]][['name', 'ingredients']]\n",
        "\n",
        "print(\"\\nRecommended Recipes:\\n\", recommend_recipes(\"chocolate cake\"))"
      ],
      "metadata": {
        "colab": {
          "base_uri": "https://localhost:8080/"
        },
        "id": "sLL17QRt8I1c",
        "outputId": "1d4a9ac7-6402-4cfe-8dce-577dd81908d2"
      },
      "execution_count": 11,
      "outputs": [
        {
          "output_type": "stream",
          "name": "stdout",
          "text": [
            "\n",
            "Recommended Recipes:\n",
            "                                              name  \\\n",
            "65676                    crock pot chocolate cake   \n",
            "89278                fudgy chocolate chip muffins   \n",
            "73048          double chocolate sour cream scones   \n",
            "1091    2 minute eggless microwave chocolate cake   \n",
            "216463                  triple chocolate biscotti   \n",
            "\n",
            "                                              ingredients  \n",
            "65676   brown sugar, flour, cocoa powder, unsweetened ...  \n",
            "89278   unsweetened applesauce, quick-cooking oats, ma...  \n",
            "73048   all-purpose flour, whole wheat flour, brown su...  \n",
            "1091    all-purpose flour, unsweetened cocoa powder, v...  \n",
            "216463  all-purpose flour, unsweetened cocoa powder, b...  \n"
          ]
        }
      ]
    },
    {
      "cell_type": "code",
      "source": [
        "import pandas as pd\n",
        "import numpy as np\n",
        "import string\n",
        "from sklearn.feature_extraction.text import TfidfVectorizer\n",
        "from sklearn.metrics.pairwise import cosine_similarity\n",
        "from sklearn.decomposition import TruncatedSVD\n",
        "from scipy.sparse import csr_matrix\n",
        "\n",
        "recipes = pd.read_csv(\"/content/RAW_recipes.csv\")\n",
        "interactions = pd.read_csv(\"/content/RAW_interactions.csv\")\n",
        "recipes = recipes[['id', 'name', 'ingredients']]\n",
        "interactions = interactions[['user_id', 'recipe_id', 'rating']]\n",
        "\n",
        "recipes.dropna(inplace=True)\n",
        "interactions.dropna(inplace=True)\n",
        "\n",
        "recipes['ingredients'] = recipes['ingredients'].apply(lambda x: x.replace(\"[\", \"\").replace(\"]\", \"\").replace(\"'\", \"\"))\n",
        "\n",
        "print(\"Recipes Data Sample:\\n\", recipes.head())\n",
        "print(\"\\nUser Interactions Sample:\\n\", interactions.head())\n",
        "\n",
        "rating_matrix = interactions.pivot(index='user_id', columns='recipe_id', values='rating').fillna(0)\n",
        "\n",
        "sparse_matrix = csr_matrix(rating_matrix.values)\n",
        "\n",
        "svd = TruncatedSVD(n_components=50, random_state=42)\n",
        "user_factors = svd.fit_transform(sparse_matrix)\n",
        "recipe_factors = svd.components_\n",
        "\n",
        "def predict_rating(user_id, recipe_id):\n",
        "    if user_id not in rating_matrix.index or recipe_id not in rating_matrix.columns:\n",
        "        return \"User or recipe not found.\"\n",
        "\n",
        "    user_idx = rating_matrix.index.get_loc(user_id)\n",
        "    recipe_idx = rating_matrix.columns.get_loc(recipe_id)\n",
        "\n",
        "    return np.dot(user_factors[user_idx], recipe_factors[:, recipe_idx])\n",
        "\n",
        "print(\"\\nPredicted Rating for User 1 & Recipe 100:\\n\", predict_rating(1, 100))"
      ],
      "metadata": {
        "colab": {
          "base_uri": "https://localhost:8080/"
        },
        "id": "Ol5nLQsS-FDj",
        "outputId": "fdb69af3-58dd-4a67-f2ba-95cff46eab76"
      },
      "execution_count": null,
      "outputs": [
        {
          "output_type": "stream",
          "name": "stderr",
          "text": [
            "<ipython-input-2-4d18b52d0e39>:18: SettingWithCopyWarning: \n",
            "A value is trying to be set on a copy of a slice from a DataFrame\n",
            "\n",
            "See the caveats in the documentation: https://pandas.pydata.org/pandas-docs/stable/user_guide/indexing.html#returning-a-view-versus-a-copy\n",
            "  recipes.dropna(inplace=True)\n"
          ]
        },
        {
          "output_type": "stream",
          "name": "stdout",
          "text": [
            "Recipes Data Sample:\n",
            "        id                                        name  \\\n",
            "0  137739  arriba   baked winter squash mexican style   \n",
            "1   31490            a bit different  breakfast pizza   \n",
            "2  112140                   all in the kitchen  chili   \n",
            "3   59389                          alouette  potatoes   \n",
            "4   44061          amish  tomato ketchup  for canning   \n",
            "\n",
            "                                         ingredients  \n",
            "0  winter squash, mexican seasoning, mixed spice,...  \n",
            "1  prepared pizza crust, sausage patty, eggs, mil...  \n",
            "2  ground beef, yellow onions, diced tomatoes, to...  \n",
            "3  spreadable cheese with garlic and herbs, new p...  \n",
            "4  tomato juice, apple cider vinegar, sugar, salt...  \n",
            "\n",
            "User Interactions Sample:\n",
            "    user_id  recipe_id  rating\n",
            "0    38094      40893       4\n",
            "1  1293707      40893       5\n",
            "2     8937      44394       4\n",
            "3   126440      85009       5\n",
            "4    57222      85009       5\n"
          ]
        },
        {
          "output_type": "stream",
          "name": "stderr",
          "text": [
            "<ipython-input-2-4d18b52d0e39>:30: PerformanceWarning: The following operation may generate 52481995090 cells in the resulting pandas object.\n",
            "  rating_matrix = interactions.pivot(index='user_id', columns='recipe_id', values='rating').fillna(0)\n"
          ]
        }
      ]
    },
    {
      "cell_type": "code",
      "source": [
        "def hybrid_recommend(user_id, recipe_name, top_n=5):\n",
        "    from sklearn.feature_extraction.text import TfidfVectorizer\n",
        "    from sklearn.neighbors import NearestNeighbors\n",
        "\n",
        "    global recipes\n",
        "    recipes_sample = recipes.copy()\n",
        "\n",
        "    tfidf = TfidfVectorizer()\n",
        "    tfidf_matrix = tfidf.fit_transform(recipes_sample['ingredients'])\n",
        "\n",
        "    nn_model = NearestNeighbors(metric='cosine', algorithm='brute')\n",
        "    nn_model.fit(tfidf_matrix)\n",
        "\n",
        "    def recommend_recipes(recipe_name, top_n=5):\n",
        "\n",
        "        indices = recipes_sample[recipes_sample['name'].str.contains(recipe_name, case=False, na=False)].index\n",
        "\n",
        "        if len(indices) == 0:\n",
        "            return \"Recipe not found.\"\n",
        "\n",
        "        idx = indices[0]\n",
        "\n",
        "        tfidf_matrix_index = recipes_sample.index.get_loc(idx)\n",
        "\n",
        "        distances, indices = nn_model.kneighbors"
      ],
      "metadata": {
        "id": "FHyB6uAkBfEY"
      },
      "execution_count": 3,
      "outputs": []
    }
  ],
  "metadata": {
    "colab": {
      "name": "scratchpad",
      "provenance": [],
      "include_colab_link": true
    },
    "kernelspec": {
      "display_name": "Python 3",
      "name": "python3"
    }
  },
  "nbformat": 4,
  "nbformat_minor": 0
}